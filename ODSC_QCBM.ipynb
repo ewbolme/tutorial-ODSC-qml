{
 "cells": [
  {
   "cell_type": "markdown",
   "metadata": {},
   "source": [
    "# ODSC Quantum Machine Learning Workshop\n",
    "\n",
    "### PyQuil implementation of the Data-Driven Quantum Circuit Learning (DDQCL) Algorithm "
   ]
  },
  {
   "cell_type": "markdown",
   "metadata": {},
   "source": [
    "Authors: Vicente Leyton-Ortega (ORNL) and Alejandro Perdomo-Ortiz\n",
    "(Zapata Computing)\n",
    "\n",
    "Not for distribution or for public release. \n",
    "\n",
    "Summary: Quick (and probably suboptimal) implementation of DDQCL in pyQuil/Forest"
   ]
  },
  {
   "cell_type": "code",
   "execution_count": null,
   "metadata": {},
   "outputs": [],
   "source": [
    "%matplotlib notebook\n",
    "%load_ext autoreload\n",
    "%autoreload 2\n",
    "\n",
    "# NOTE: IF the next window doesn't run, open two terminals and run:\n",
    "# qvm -S\n",
    "# quilc -S"
   ]
  },
  {
   "cell_type": "markdown",
   "metadata": {},
   "source": [
    "### Imports"
   ]
  },
  {
   "cell_type": "code",
   "execution_count": null,
   "metadata": {},
   "outputs": [],
   "source": [
    "#load the necessary packages and libraries\n",
    "from pyquil.quil import Program   \n",
    "import pyquil.api as api\n",
    "from pyquil.gates import *\n",
    "\n",
    "from utils import *\n",
    "import numpy as np\n",
    "import matplotlib.pyplot as plt\n",
    "from random import *\n",
    "import itertools\n",
    "from pso import PSO\n",
    "import time\n",
    "\n",
    "qvm = api.QVMConnection()  \n",
    "PRECISION = 8\n",
    "CLIP = 1e-8"
   ]
  },
  {
   "cell_type": "markdown",
   "metadata": {},
   "source": [
    "### Bars & Stripes data set\n",
    "\n",
    "Here we consider an $n \\times m$ data set"
   ]
  },
  {
   "cell_type": "code",
   "execution_count": null,
   "metadata": {},
   "outputs": [],
   "source": [
    "global n_qubits, hist_sample, n, m\n",
    "\n",
    "n , m =  2, 2\n",
    "\n",
    "bas = bars_and_stripes(n,m)\n",
    "\n",
    "n_points, n_qubits  =  bas.shape\n",
    "\n",
    "fig, ax_b = plt.subplots(1, bas.shape[0], figsize=(9,2))   #visualization of bars ans stripes data set\n",
    "\n",
    "for i in range(bas.shape[0]):\n",
    "    ax_b[i].matshow(bas[i].reshape(n, m), vmin=-1, vmax=1)\n",
    "    \n",
    "    ax_b[i].set_xticks([])\n",
    "    ax_b[i].set_yticks([])\n",
    "    \n",
    "    ax_b[i].set_xticks([0.5], minor=True);\n",
    "    ax_b[i].set_yticks([0.5], minor=True);\n",
    "    \n",
    "    ax_b[i].set_title(bas[i])\n",
    "    ax_b[i].grid(which='minor', color='black', linestyle='-', linewidth=0.75)\n",
    "    \n",
    "'''sample distribution'''\n",
    "hist_sample = get_histogram(bas)"
   ]
  },
  {
   "cell_type": "markdown",
   "metadata": {},
   "source": [
    "### Topologies"
   ]
  },
  {
   "cell_type": "code",
   "execution_count": null,
   "metadata": {},
   "outputs": [],
   "source": [
    "import networkx as nx \n",
    "\n",
    "edges_all_connected = []\n",
    "edges_star          = []\n",
    "edges_line          = []\n",
    "\n",
    "''' line topology'''\n",
    "for i in range(n_qubits-1):\n",
    "    connections = [i,i+1]\n",
    "    edges_line.append(connections)\n",
    "\n",
    "\n",
    "'''star topology'''\n",
    "for i in range(1,n_qubits):\n",
    "    connections = [0,i]\n",
    "    edges_star.append(connections)\n",
    "\n",
    "\n",
    "'''all connected topology'''\n",
    "for i in range(n_qubits-1):\n",
    "    for j in range(i+1,n_qubits):\n",
    "        connections = [i,j]\n",
    "        edges_all_connected.append(connections)\n",
    "\n",
    "# Or build any other you would like to explore. For example, ring topology?\n",
    "        \n",
    "        \n",
    "'''lets define a little function for the connections'''\n",
    "def top(x):\n",
    "    if x == 0:\n",
    "        edges = edges_line\n",
    "    if x == 1: \n",
    "        edges = edges_star\n",
    "    if x == 2:\n",
    "        edges = edges_all_connected\n",
    "    return edges"
   ]
  },
  {
   "cell_type": "markdown",
   "metadata": {},
   "source": [
    "### Circuit parameters"
   ]
  },
  {
   "cell_type": "code",
   "execution_count": null,
   "metadata": {},
   "outputs": [],
   "source": [
    "global n_top, single_g, entangling_g, n_layers, dimension, machine\n",
    "global min_bounds, max_bounds, n_rotations, init_state, n_measurements, q_arrange \n",
    "\n",
    "'''define the topology and initial state'''\n",
    "n_top = 2             # options: 0 - line, 1 - star,  2 - all connected \n",
    "init_state = 'zero'   # options: zero and hadammard\n",
    "\n",
    "'''define single and entangling gates'''\n",
    "single_g      =  ['RY','RZ']   \n",
    "entangling_g  =  ['YY']       # options YY, ZZ, CPHASE -- the entangling gate can be modify in the circuit           \n",
    "\n",
    "'''define the number of layers'''\n",
    "n_layers = 2\n",
    "\n",
    "'''number of parameters'''\n",
    "n_rotations   = len(single_g)\n",
    "even_n_layers = int(np.floor(n_layers/2))\n",
    "odd_n_layers  = n_layers - even_n_layers\n",
    "if single_g[0] == 'RZ' and init_state == 'zero':\n",
    "    dimension     = (n_rotations*odd_n_layers-1)*n_qubits + len(top(n_top))*even_n_layers  \n",
    "else:\n",
    "    dimension     = (n_rotations*odd_n_layers)*n_qubits + len(top(n_top))*even_n_layers"
   ]
  },
  {
   "cell_type": "markdown",
   "metadata": {},
   "source": [
    "### Quantum Circuit: Instructions to the quantum computer"
   ]
  },
  {
   "cell_type": "code",
   "execution_count": null,
   "metadata": {},
   "outputs": [],
   "source": [
    "def circuit(angles):\n",
    "    \n",
    "    if init_state == 'zero' :\n",
    "        C = Program([I(i) for i in range(n_qubits)])\n",
    "    elif init_state == 'hadamard':\n",
    "        C =  Program([H(i) for i in range(n_qubits)])\n",
    "    \n",
    "    i = 0\n",
    "    \n",
    "    for ly in range(1, n_layers + 1):\n",
    "        if ly % 2 == 1:                       #single gates are only in odd layers\n",
    "            for qb in range(n_qubits):\n",
    "                for op in single_g:\n",
    "                    \n",
    "                    x = angles[i]*np.pi       #rotating angles are written in units of pi \n",
    "                    gate = (op + \"(\"+str(x)+\")\",qb)\n",
    "                    C.inst(gate)\n",
    "                    \n",
    "                    i+=1                      #now it will call the next element in angles\n",
    "                                        \n",
    "        else:\n",
    "            for qb_qb in top(n_top):\n",
    "                if entangling_g[0] == 'YY':\n",
    "                    \n",
    "                    x = angles[i]*np.pi  #entangling angles are written in units of 2*pi\n",
    "                    idx1 = qb_qb[0]\n",
    "                    idx2 = qb_qb[1]\n",
    "                    \n",
    "                    C.inst(CNOT(idx1,idx2))\n",
    "                    C.inst(RY(x,idx2))\n",
    "                    C.inst(CNOT(idx1,idx2))\n",
    "                            \n",
    "                    i+=1\n",
    "                    \n",
    "                elif entangling_g[0] == 'ZZ':  #ZZ(theta,1,2) = CNOT(1,2) RZ(2 theta,2) CNOT(1,2), - pi < 2 theta < pi\n",
    "                    \n",
    "                    x = angles[i]*np.pi     # theta = x*pi/2, then -1 < x < 1\n",
    "                    idx1 = qb_qb[0]\n",
    "                    idx2 = qb_qb[1]\n",
    "                    \n",
    "                    C.inst(CNOT(idx1,idx2))\n",
    "                    C.inst(RZ(x,idx2))\n",
    "                    C.inst(CNOT(idx1,idx2))\n",
    "                    \n",
    "                    i+=1 \n",
    "                    \n",
    "                elif entangling_g[0] == 'XX':  #XX(theta,1,2) = CNOT(1,2) RX(2 theta,2) CNOT(1,2), - pi < 2 theta < pi\n",
    "                    \n",
    "                    x = angles[i]*np.pi     \n",
    "                    idx1 = qb_qb[0]\n",
    "                    idx2 = qb_qb[1]\n",
    "                    \n",
    "                    C.inst(CNOT(idx1,idx2))\n",
    "                    C.inst(RX(x,idx2))\n",
    "                    C.inst(CNOT(idx1,idx2))\n",
    "                    \n",
    "                    i+=1 \n",
    "                                               ## we can define more entangling gates!\n",
    "                else:\n",
    "                    \n",
    "                    x = angles[i]*np.pi \n",
    "                    idx1 = qb_qb[0]\n",
    "                    idx2 = qb_qb[1]\n",
    "                    gate = (entangling_g[0] + \"(\"+str(x)+\")\",idx1,idx2)\n",
    "                    C.inst(gate)\n",
    "                    \n",
    "    wf         =  qvm.wavefunction(C)     #get the output circuit wavefunction\n",
    "    probs_dist =  wf.get_outcome_probs()  #get the probability distribution --- be careful it is a dict\n",
    "    probs      =  list(range(2**n_qubits))\n",
    "    \n",
    "    '''here we extract the distribution values from the dict'''\n",
    "    for i in range(2**n_qubits):\n",
    "\n",
    "        aa = str(np.binary_repr(i,n_qubits))\n",
    "        probs[i]=probs_dist[aa]\n",
    "        \n",
    "    assert(round(sum(probs), PRECISION)==1.)  # just to make sure \n",
    "       \n",
    "    return probs"
   ]
  },
  {
   "cell_type": "markdown",
   "metadata": {},
   "source": [
    "### Kullback - Leibler cost function"
   ]
  },
  {
   "cell_type": "code",
   "execution_count": null,
   "metadata": {},
   "outputs": [],
   "source": [
    "def KL(angles):\n",
    "    l = 0.0\n",
    "    probs = circuit(angles)\n",
    "    for idx in range(2**n_qubits):\n",
    "        l += -hist_sample[idx] * np.log(np.clip(probs[idx], CLIP, 1.)) \\\n",
    "                 + hist_sample[idx] * np.log(np.clip(hist_sample[idx], CLIP, 1.))    \n",
    "    return l"
   ]
  },
  {
   "cell_type": "markdown",
   "metadata": {},
   "source": [
    "### Optimizer: Particle Swarm optimization"
   ]
  },
  {
   "cell_type": "code",
   "execution_count": null,
   "metadata": {},
   "outputs": [],
   "source": [
    "c1           = 1.0\n",
    "c2           = 1.0\n",
    "w            = 0.5\n",
    "particles    = 2*dimension\n",
    "n_iterations = 30\n",
    "\n",
    "np.random.seed(4)\n",
    "\n",
    "optimizer = PSO( \n",
    "            n_parameters = dimension, \n",
    "            n_particles  = particles,\n",
    "            phip         = 1.0, \n",
    "            phig         = 1.0,\n",
    "            omega        = 0.5,\n",
    "            type         = 'circular')\n",
    "\n",
    "batch =  optimizer.x"
   ]
  },
  {
   "cell_type": "markdown",
   "metadata": {},
   "source": [
    "### Training process"
   ]
  },
  {
   "cell_type": "code",
   "execution_count": null,
   "metadata": {},
   "outputs": [],
   "source": [
    "save_filename = 'Trial1_top-all_'\n",
    "file_path = str(save_filename) + 'cost_and_angles_all.txt'\n",
    "f = open(file_path, 'w')\n",
    "\n",
    "fig, (ax1, ax2) = plt.subplots(1, 2, figsize=(9, 4))\n",
    "ax_c = fig.add_axes([0.37,0.2,0.105,0.05])\n",
    "y_position, width, height = 0.7, 0.05, 0.07\n",
    "ax_b = []\n",
    "ax_b.append(fig.add_axes([0.55,y_position,width,height]))\n",
    "ax_b.append(fig.add_axes([0.606,y_position,width,height]))\n",
    "ax_b.append(fig.add_axes([0.65,y_position,width,height]))\n",
    "ax_b.append(fig.add_axes([0.75,y_position,width,height]))\n",
    "ax_b.append(fig.add_axes([0.795,y_position,width,height]))\n",
    "ax_b.append(fig.add_axes([0.851,y_position,width,height]))\n",
    "\n",
    "\n",
    "best_angles = []\n",
    "best_costs = []\n",
    "best_histogram = []\n",
    "    \n",
    "for i in range(n_iterations):\n",
    "        \n",
    "    costs       = [KL(batch[p]) for p in range(particles)]\n",
    "    costs       = np.array(costs).reshape((particles,))\n",
    "    \n",
    "    b_angles, b_cost, _, _  = optimizer.run(costs)\n",
    "    b_hist = circuit(b_angles)\n",
    "    \n",
    "    best_angles.append(b_angles)\n",
    "    best_costs.append(b_cost)\n",
    "    best_histogram.append(circuit(b_angles))   \n",
    "\n",
    "    batch = optimizer.x\n",
    "        \n",
    "    f.write('%s \\t' % i)\n",
    "    f.write('%s \\t' % b_cost)\n",
    "    for item in b_angles:\n",
    "        f.write(\"%s \\t\" % item)\n",
    "        f.write('\\n')\n",
    "    \n",
    "    plots(ax1,ax2,ax_b,ax_c,fig,best_costs,bas,hist_sample,b_hist,n,m)\n",
    "    \n",
    "    if i == 1:\n",
    "        time.sleep(10) "
   ]
  },
  {
   "cell_type": "code",
   "execution_count": null,
   "metadata": {},
   "outputs": [],
   "source": []
  }
 ],
 "metadata": {
  "kernelspec": {
   "display_name": "Python 3",
   "language": "python",
   "name": "python3"
  },
  "language_info": {
   "codemirror_mode": {
    "name": "ipython",
    "version": 3
   },
   "file_extension": ".py",
   "mimetype": "text/x-python",
   "name": "python",
   "nbconvert_exporter": "python",
   "pygments_lexer": "ipython3",
   "version": "3.7.6"
  }
 },
 "nbformat": 4,
 "nbformat_minor": 4
}
